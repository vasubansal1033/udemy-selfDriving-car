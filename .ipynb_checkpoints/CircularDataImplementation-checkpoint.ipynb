{
 "cells": [
  {
   "cell_type": "code",
   "execution_count": 1,
   "metadata": {},
   "outputs": [
    {
     "name": "stderr",
     "output_type": "stream",
     "text": [
      "Using TensorFlow backend.\n"
     ]
    }
   ],
   "source": [
    "import numpy as np\n",
    "import matplotlib.pyplot as plt\n",
    "from sklearn import datasets\n",
    "\n",
    "import keras\n",
    "from keras.models import Sequential\n",
    "from keras.layers import Dense\n",
    "from keras.optimizers import Adam"
   ]
  },
  {
   "cell_type": "code",
   "execution_count": 2,
   "metadata": {},
   "outputs": [],
   "source": [
    "np.random.seed(0)"
   ]
  },
  {
   "cell_type": "markdown",
   "metadata": {},
   "source": [
    "https://stackoverflow.com/questions/56119505/what-is-the-difference-between-np-random-seed-vs-random-state"
   ]
  },
  {
   "cell_type": "code",
   "execution_count": 3,
   "metadata": {},
   "outputs": [],
   "source": [
    "n_pts = 500\n",
    "X,Y = datasets.make_circles(n_samples= n_pts, random_state = 123, noise = 0.1, factor = 0.2)\n"
   ]
  },
  {
   "cell_type": "code",
   "execution_count": 4,
   "metadata": {},
   "outputs": [
    {
     "data": {
      "image/png": "[encoded data removed]",
      "text/plain": [
       "<Figure size 432x288 with 1 Axes>"
      ]
     },
     "metadata": {
      "needs_background": "light"
     },
     "output_type": "display_data"
    }
   ],
   "source": [
    "plt.scatter(X[Y==0,0],X[Y==0,1])\n",
    "plt.scatter(X[Y==1,0],X[Y==1,1])\n",
    "plt.show()"
   ]
  },
  {
   "cell_type": "code",
   "execution_count": 5,
   "metadata": {},
   "outputs": [
    {
     "name": "stdout",
     "output_type": "stream",
     "text": [
      "WARNING:tensorflow:From C:\\ProgramData\\Anaconda3\\lib\\site-packages\\tensorflow\\python\\framework\\op_def_library.py:263: colocate_with (from tensorflow.python.framework.ops) is deprecated and will be removed in a future version.\n",
      "Instructions for updating:\n",
      "Colocations handled automatically by placer.\n"
     ]
    }
   ],
   "source": [
    "model = Sequential()\n",
    "model.add(Dense(4,input_shape = (2,), activation = 'sigmoid')) # defined first hidden layer\n",
    "model.add(Dense(1, activation = 'sigmoid'))   \n",
    "model.compile(Adam(lr = 0.01),'binary_crossentropy',metrics = ['accuracy'])          \n"
   ]
  },
  {
   "cell_type": "code",
   "execution_count": 6,
   "metadata": {},
   "outputs": [
    {
     "name": "stdout",
     "output_type": "stream",
     "text": [
      "WARNING:tensorflow:From C:\\ProgramData\\Anaconda3\\lib\\site-packages\\tensorflow\\python\\ops\\math_ops.py:3066: to_int32 (from tensorflow.python.ops.math_ops) is deprecated and will be removed in a future version.\n",
      "Instructions for updating:\n",
      "Use tf.cast instead.\n",
      "Epoch 1/100\n",
      "500/500 [==============================] - 0s 760us/step - loss: 0.6963 - acc: 0.5140\n",
      "Epoch 2/100\n",
      "500/500 [==============================] - 0s 60us/step - loss: 0.6938 - acc: 0.6180\n",
      "Epoch 3/100\n",
      "500/500 [==============================] - 0s 70us/step - loss: 0.6926 - acc: 0.5160\n",
      "Epoch 4/100\n",
      "500/500 [==============================] - 0s 70us/step - loss: 0.6916 - acc: 0.6760\n",
      "Epoch 5/100\n",
      "500/500 [==============================] - 0s 70us/step - loss: 0.6905 - acc: 0.6320\n",
      "Epoch 6/100\n",
      "500/500 [==============================] - 0s 70us/step - loss: 0.6890 - acc: 0.3640\n",
      "Epoch 7/100\n",
      "500/500 [==============================] - 0s 70us/step - loss: 0.6866 - acc: 0.6480\n",
      "Epoch 8/100\n",
      "500/500 [==============================] - 0s 70us/step - loss: 0.6839 - acc: 0.6700\n",
      "Epoch 9/100\n",
      "500/500 [==============================] - 0s 70us/step - loss: 0.6797 - acc: 0.7580\n",
      "Epoch 10/100\n",
      "500/500 [==============================] - 0s 70us/step - loss: 0.6734 - acc: 0.7980\n",
      "Epoch 11/100\n",
      "500/500 [==============================] - 0s 80us/step - loss: 0.6660 - acc: 0.8380\n",
      "Epoch 12/100\n",
      "500/500 [==============================] - 0s 70us/step - loss: 0.6548 - acc: 0.8580\n",
      "Epoch 13/100\n",
      "500/500 [==============================] - 0s 70us/step - loss: 0.6422 - acc: 0.8780\n",
      "Epoch 14/100\n",
      "500/500 [==============================] - 0s 70us/step - loss: 0.6270 - acc: 0.8920\n",
      "Epoch 15/100\n",
      "500/500 [==============================] - 0s 70us/step - loss: 0.6078 - acc: 0.8800\n",
      "Epoch 16/100\n",
      "500/500 [==============================] - 0s 70us/step - loss: 0.5884 - acc: 0.8700\n",
      "Epoch 17/100\n",
      "500/500 [==============================] - 0s 70us/step - loss: 0.5677 - acc: 0.8860\n",
      "Epoch 18/100\n",
      "500/500 [==============================] - 0s 80us/step - loss: 0.5444 - acc: 0.8560\n",
      "Epoch 19/100\n",
      "500/500 [==============================] - 0s 100us/step - loss: 0.5222 - acc: 0.8860\n",
      "Epoch 20/100\n",
      "500/500 [==============================] - 0s 70us/step - loss: 0.4978 - acc: 0.8880\n",
      "Epoch 21/100\n",
      "500/500 [==============================] - 0s 110us/step - loss: 0.4753 - acc: 0.8880\n",
      "Epoch 22/100\n",
      "500/500 [==============================] - 0s 80us/step - loss: 0.4525 - acc: 0.8920\n",
      "Epoch 23/100\n",
      "500/500 [==============================] - 0s 70us/step - loss: 0.4302 - acc: 0.8920\n",
      "Epoch 24/100\n",
      "500/500 [==============================] - 0s 90us/step - loss: 0.4094 - acc: 0.9040\n",
      "Epoch 25/100\n",
      "500/500 [==============================] - 0s 70us/step - loss: 0.3899 - acc: 0.9000\n",
      "Epoch 26/100\n",
      "500/500 [==============================] - 0s 80us/step - loss: 0.3702 - acc: 0.9140\n",
      "Epoch 27/100\n",
      "500/500 [==============================] - 0s 130us/step - loss: 0.3517 - acc: 0.9100\n",
      "Epoch 28/100\n",
      "500/500 [==============================] - 0s 120us/step - loss: 0.3345 - acc: 0.9160\n",
      "Epoch 29/100\n",
      "500/500 [==============================] - 0s 110us/step - loss: 0.3176 - acc: 0.9180\n",
      "Epoch 30/100\n",
      "500/500 [==============================] - 0s 130us/step - loss: 0.3021 - acc: 0.9220\n",
      "Epoch 31/100\n",
      "500/500 [==============================] - 0s 110us/step - loss: 0.2872 - acc: 0.9240\n",
      "Epoch 32/100\n",
      "500/500 [==============================] - 0s 80us/step - loss: 0.2735 - acc: 0.9320\n",
      "Epoch 33/100\n",
      "500/500 [==============================] - 0s 100us/step - loss: 0.2606 - acc: 0.9420\n",
      "Epoch 34/100\n",
      "500/500 [==============================] - 0s 90us/step - loss: 0.2486 - acc: 0.9440\n",
      "Epoch 35/100\n",
      "500/500 [==============================] - 0s 100us/step - loss: 0.2369 - acc: 0.9640\n",
      "Epoch 36/100\n",
      "500/500 [==============================] - 0s 110us/step - loss: 0.2258 - acc: 0.9800\n",
      "Epoch 37/100\n",
      "500/500 [==============================] - 0s 100us/step - loss: 0.2160 - acc: 0.9860\n",
      "Epoch 38/100\n",
      "500/500 [==============================] - 0s 120us/step - loss: 0.2060 - acc: 0.9860\n",
      "Epoch 39/100\n",
      "500/500 [==============================] - 0s 70us/step - loss: 0.1967 - acc: 0.9900\n",
      "Epoch 40/100\n",
      "500/500 [==============================] - 0s 100us/step - loss: 0.1876 - acc: 0.9940\n",
      "Epoch 41/100\n",
      "500/500 [==============================] - 0s 100us/step - loss: 0.1792 - acc: 0.9940\n",
      "Epoch 42/100\n",
      "500/500 [==============================] - 0s 80us/step - loss: 0.1712 - acc: 0.9940\n",
      "Epoch 43/100\n",
      "500/500 [==============================] - 0s 70us/step - loss: 0.1636 - acc: 0.9960\n",
      "Epoch 44/100\n",
      "500/500 [==============================] - 0s 80us/step - loss: 0.1561 - acc: 0.9960\n",
      "Epoch 45/100\n",
      "500/500 [==============================] - 0s 80us/step - loss: 0.1492 - acc: 0.9960\n",
      "Epoch 46/100\n",
      "500/500 [==============================] - 0s 100us/step - loss: 0.1420 - acc: 0.9960\n",
      "Epoch 47/100\n",
      "500/500 [==============================] - 0s 70us/step - loss: 0.1351 - acc: 0.9960\n",
      "Epoch 48/100\n",
      "500/500 [==============================] - 0s 90us/step - loss: 0.1282 - acc: 0.9960\n",
      "Epoch 49/100\n",
      "500/500 [==============================] - 0s 60us/step - loss: 0.1211 - acc: 0.9960\n",
      "Epoch 50/100\n",
      "500/500 [==============================] - 0s 70us/step - loss: 0.1146 - acc: 0.9960\n",
      "Epoch 51/100\n",
      "500/500 [==============================] - 0s 60us/step - loss: 0.1079 - acc: 0.9960\n",
      "Epoch 52/100\n",
      "500/500 [==============================] - 0s 70us/step - loss: 0.1020 - acc: 0.9960\n",
      "Epoch 53/100\n",
      "500/500 [==============================] - 0s 50us/step - loss: 0.0964 - acc: 0.9960\n",
      "Epoch 54/100\n",
      "500/500 [==============================] - 0s 50us/step - loss: 0.0912 - acc: 0.9960\n",
      "Epoch 55/100\n",
      "500/500 [==============================] - 0s 80us/step - loss: 0.0865 - acc: 0.9960\n",
      "Epoch 56/100\n",
      "500/500 [==============================] - 0s 80us/step - loss: 0.0822 - acc: 0.9960\n",
      "Epoch 57/100\n",
      "500/500 [==============================] - 0s 80us/step - loss: 0.0782 - acc: 0.9980\n",
      "Epoch 58/100\n",
      "500/500 [==============================] - 0s 90us/step - loss: 0.0746 - acc: 0.9980\n",
      "Epoch 59/100\n",
      "500/500 [==============================] - 0s 70us/step - loss: 0.0712 - acc: 0.9980\n",
      "Epoch 60/100\n",
      "500/500 [==============================] - 0s 70us/step - loss: 0.0682 - acc: 0.9980\n",
      "Epoch 61/100\n",
      "500/500 [==============================] - 0s 70us/step - loss: 0.0652 - acc: 0.9980\n",
      "Epoch 62/100\n",
      "500/500 [==============================] - 0s 70us/step - loss: 0.0625 - acc: 0.9980\n",
      "Epoch 63/100\n",
      "500/500 [==============================] - 0s 50us/step - loss: 0.0601 - acc: 0.9980\n",
      "Epoch 64/100\n",
      "500/500 [==============================] - 0s 70us/step - loss: 0.0578 - acc: 0.9980\n",
      "Epoch 65/100\n",
      "500/500 [==============================] - 0s 60us/step - loss: 0.0556 - acc: 0.9980\n",
      "Epoch 66/100\n",
      "500/500 [==============================] - 0s 60us/step - loss: 0.0536 - acc: 0.9980\n",
      "Epoch 67/100\n",
      "500/500 [==============================] - 0s 70us/step - loss: 0.0517 - acc: 0.9980\n",
      "Epoch 68/100\n",
      "500/500 [==============================] - 0s 50us/step - loss: 0.0499 - acc: 0.9980\n",
      "Epoch 69/100\n",
      "500/500 [==============================] - 0s 50us/step - loss: 0.0483 - acc: 0.9980\n",
      "Epoch 70/100\n",
      "500/500 [==============================] - 0s 90us/step - loss: 0.0467 - acc: 0.9980\n",
      "Epoch 71/100\n",
      "500/500 [==============================] - 0s 60us/step - loss: 0.0452 - acc: 0.9980\n",
      "Epoch 72/100\n",
      "500/500 [==============================] - 0s 80us/step - loss: 0.0438 - acc: 0.9980\n",
      "Epoch 73/100\n",
      "500/500 [==============================] - 0s 90us/step - loss: 0.0424 - acc: 0.9980\n",
      "Epoch 74/100\n",
      "500/500 [==============================] - 0s 70us/step - loss: 0.0411 - acc: 0.9980\n",
      "Epoch 75/100\n",
      "500/500 [==============================] - 0s 60us/step - loss: 0.0399 - acc: 0.9980\n",
      "Epoch 76/100\n",
      "500/500 [==============================] - 0s 50us/step - loss: 0.0387 - acc: 0.9980\n",
      "Epoch 77/100\n",
      "500/500 [==============================] - 0s 60us/step - loss: 0.0377 - acc: 0.9980\n",
      "Epoch 78/100\n",
      "500/500 [==============================] - 0s 70us/step - loss: 0.0366 - acc: 0.9980\n",
      "Epoch 79/100\n",
      "500/500 [==============================] - 0s 70us/step - loss: 0.0356 - acc: 0.9980\n",
      "Epoch 80/100\n",
      "500/500 [==============================] - 0s 60us/step - loss: 0.0347 - acc: 0.9980\n",
      "Epoch 81/100\n",
      "500/500 [==============================] - 0s 70us/step - loss: 0.0339 - acc: 0.9980\n",
      "Epoch 82/100\n",
      "500/500 [==============================] - 0s 70us/step - loss: 0.0329 - acc: 0.9980\n",
      "Epoch 83/100\n",
      "500/500 [==============================] - 0s 70us/step - loss: 0.0320 - acc: 0.9980\n",
      "Epoch 84/100\n",
      "500/500 [==============================] - 0s 90us/step - loss: 0.0312 - acc: 0.9980\n",
      "Epoch 85/100\n",
      "500/500 [==============================] - 0s 100us/step - loss: 0.0305 - acc: 0.9980\n",
      "Epoch 86/100\n",
      "500/500 [==============================] - 0s 100us/step - loss: 0.0297 - acc: 1.0000\n",
      "Epoch 87/100\n",
      "500/500 [==============================] - 0s 100us/step - loss: 0.0290 - acc: 1.0000\n",
      "Epoch 88/100\n",
      "500/500 [==============================] - 0s 80us/step - loss: 0.0283 - acc: 1.0000\n",
      "Epoch 89/100\n",
      "500/500 [==============================] - 0s 100us/step - loss: 0.0276 - acc: 1.0000\n",
      "Epoch 90/100\n",
      "500/500 [==============================] - 0s 90us/step - loss: 0.0270 - acc: 1.0000\n",
      "Epoch 91/100\n",
      "500/500 [==============================] - 0s 90us/step - loss: 0.0264 - acc: 1.0000\n",
      "Epoch 92/100\n",
      "500/500 [==============================] - 0s 60us/step - loss: 0.0258 - acc: 1.0000\n",
      "Epoch 93/100\n",
      "500/500 [==============================] - 0s 60us/step - loss: 0.0252 - acc: 1.0000\n",
      "Epoch 94/100\n",
      "500/500 [==============================] - 0s 70us/step - loss: 0.0247 - acc: 1.0000\n",
      "Epoch 95/100\n",
      "500/500 [==============================] - 0s 90us/step - loss: 0.0242 - acc: 1.0000\n",
      "Epoch 96/100\n",
      "500/500 [==============================] - 0s 80us/step - loss: 0.0236 - acc: 1.0000\n",
      "Epoch 97/100\n",
      "500/500 [==============================] - 0s 70us/step - loss: 0.0232 - acc: 1.0000\n",
      "Epoch 98/100\n",
      "500/500 [==============================] - 0s 90us/step - loss: 0.0227 - acc: 1.0000\n",
      "Epoch 99/100\n",
      "500/500 [==============================] - 0s 80us/step - loss: 0.0222 - acc: 1.0000\n",
      "Epoch 100/100\n",
      "500/500 [==============================] - 0s 70us/step - loss: 0.0217 - acc: 1.0000\n"
     ]
    }
   ],
   "source": [
    "h = model.fit(x=X,y=Y, verbose = 1, batch_size=20, epochs = 100, shuffle = 'true')\n"
   ]
  },
  {
   "cell_type": "code",
   "execution_count": 7,
   "metadata": {},
   "outputs": [
    {
     "data": {
      "text/plain": [
       "Text(0.5, 1.0, 'accuracy')"
      ]
     },
     "execution_count": 7,
     "metadata": {},
     "output_type": "execute_result"
    },
    {
     "data": {
      "image/png": "[encoded data removed]",
      "text/plain": [
       "<Figure size 432x288 with 1 Axes>"
      ]
     },
     "metadata": {
      "needs_background": "light"
     },
     "output_type": "display_data"
    }
   ],
   "source": [
    "plt.plot(h.history['acc'])\n",
    "plt.xlabel('epoch')\n",
    "plt.legend(['accuracy'])\n",
    "plt.title('accuracy')"
   ]
  },
  {
   "cell_type": "code",
   "execution_count": 8,
   "metadata": {},
   "outputs": [
    {
     "data": {
      "text/plain": [
       "Text(0.5, 1.0, 'loss')"
      ]
     },
     "execution_count": 8,
     "metadata": {},
     "output_type": "execute_result"
    },
    {
     "data": {
      "image/png": "[encoded data removed]",
      "text/plain": [
       "<Figure size 432x288 with 1 Axes>"
      ]
     },
     "metadata": {
      "needs_background": "light"
     },
     "output_type": "display_data"
    }
   ],
   "source": [
    "plt.plot(h.history['loss'])\n",
    "plt.xlabel('loss')\n",
    "plt.legend(['loss'])\n",
    "plt.title('loss')"
   ]
  },
  {
   "cell_type": "code",
   "execution_count": 9,
   "metadata": {},
   "outputs": [],
   "source": [
    "def plot_decision_boundary(X, Y, model):\n",
    "    x_span = np.linspace(min(X[:,0])-0.25,max(X[:,0])+0.25,50)\n",
    "    y_span = np.linspace(min(X[:,1])-0.25,max(X[:,1])+0.25,50)\n",
    "    xx, yy = np.meshgrid(x_span,y_span)\n",
    "    xx_,yy_ = xx.ravel(),yy.ravel() # converts the array into 1D array\n",
    "    grid = np.c_[xx_,yy_]\n",
    "    pred_func = model.predict(grid)\n",
    "    z = pred_func.reshape(xx.shape)\n",
    "    plt.contourf(xx,yy,z)"
   ]
  },
  {
   "cell_type": "code",
   "execution_count": 10,
   "metadata": {},
   "outputs": [
    {
     "name": "stdout",
     "output_type": "stream",
     "text": [
      "Prediction is :  [[0.02495426]]\n"
     ]
    },
    {
     "data": {
      "image/png": "[encoded data removed]",
      "text/plain": [
       "<Figure size 432x288 with 1 Axes>"
      ]
     },
     "metadata": {
      "needs_background": "light"
     },
     "output_type": "display_data"
    }
   ],
   "source": [
    "plot_decision_boundary(X, Y, model)\n",
    "plt.scatter(X[:n_pts,0],X[:n_pts,1])\n",
    "plt.scatter(X[n_pts:,0],X[n_pts:,1])\n",
    "\n",
    "x,y = 0.1,0.75\n",
    "point = np.array([[x,y]])\n",
    "prediction = model.predict(point)\n",
    "plt.plot([x],[y],marker='o',markersize = 10,color='red')\n",
    "print('Prediction is : ',prediction)"
   ]
  }
 ],
 "metadata": {
  "kernelspec": {
   "display_name": "Python 3",
   "language": "python",
   "name": "python3"
  },
  "language_info": {
   "codemirror_mode": {
    "name": "ipython",
    "version": 3
   },
   "file_extension": ".py",
   "mimetype": "text/x-python",
   "name": "python",
   "nbconvert_exporter": "python",
   "pygments_lexer": "ipython3",
   "version": "3.7.1"
  }
 },
 "nbformat": 4,
 "nbformat_minor": 2
}
